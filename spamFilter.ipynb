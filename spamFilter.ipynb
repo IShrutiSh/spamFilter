{
 "cells": [
  {
   "cell_type": "code",
   "execution_count": 4,
   "id": "61379e97-95ae-48a6-803b-a68ea6e4aac9",
   "metadata": {},
   "outputs": [
    {
     "name": "stderr",
     "output_type": "stream",
     "text": [
      "C:\\Users\\hp\\anaconda3\\Lib\\site-packages\\keras\\src\\layers\\core\\embedding.py:90: UserWarning: Argument `input_length` is deprecated. Just remove it.\n",
      "  warnings.warn(\n"
     ]
    },
    {
     "name": "stdout",
     "output_type": "stream",
     "text": [
      "Epoch 1/3\n",
      "\u001b[1m61266/61266\u001b[0m \u001b[32m━━━━━━━━━━━━━━━━━━━━\u001b[0m\u001b[37m\u001b[0m \u001b[1m2400s\u001b[0m 39ms/step - accuracy: 0.8981 - loss: 0.2526 - val_accuracy: 0.9458 - val_loss: 0.1439\n",
      "Epoch 2/3\n",
      "\u001b[1m61266/61266\u001b[0m \u001b[32m━━━━━━━━━━━━━━━━━━━━\u001b[0m\u001b[37m\u001b[0m \u001b[1m2097s\u001b[0m 34ms/step - accuracy: 0.9514 - loss: 0.1356 - val_accuracy: 0.9492 - val_loss: 0.1425\n",
      "Epoch 3/3\n",
      "\u001b[1m61266/61266\u001b[0m \u001b[32m━━━━━━━━━━━━━━━━━━━━\u001b[0m\u001b[37m\u001b[0m \u001b[1m1359s\u001b[0m 22ms/step - accuracy: 0.9543 - loss: 0.1286 - val_accuracy: 0.9478 - val_loss: 0.1359\n",
      "\u001b[1m8164/8164\u001b[0m \u001b[32m━━━━━━━━━━━━━━━━━━━━\u001b[0m\u001b[37m\u001b[0m \u001b[1m50s\u001b[0m 6ms/step - accuracy: 0.9476 - loss: 0.1369\n"
     ]
    },
    {
     "name": "stderr",
     "output_type": "stream",
     "text": [
      "WARNING:absl:You are saving your model as an HDF5 file via `model.save()` or `keras.saving.save_model(model)`. This file format is considered legacy. We recommend using instead the native Keras format, e.g. `model.save('my_model.keras')` or `keras.saving.save_model(model, 'my_model.keras')`. \n"
     ]
    },
    {
     "name": "stdout",
     "output_type": "stream",
     "text": [
      "Test Accuracy: 0.95\n"
     ]
    }
   ],
   "source": [
    "import pandas as pd\n",
    "import numpy as np\n",
    "import tensorflow as tf\n",
    "import matplotlib.pyplot as plt\n",
    "from sklearn.model_selection import train_test_split\n",
    "from imblearn.over_sampling import SMOTE\n",
    "from tensorflow.keras.preprocessing.text import Tokenizer\n",
    "from tensorflow.keras.preprocessing.sequence import pad_sequences\n",
    "from tensorflow.keras.models import Sequential\n",
    "from tensorflow.keras.layers import Embedding, LSTM, Dense, Dropout, SpatialDropout1D\n",
    "from tensorflow.keras.callbacks import EarlyStopping\n",
    "\n",
    "# Load Dataset\n",
    "df = pd.read_csv('C:\\\\Users\\\\hp\\\\Desktop\\\\IITK AI & ML\\\\AI\\\\Project3Spamfilter\\\\train.csv')\n",
    "df = df[['question_text', 'target']]\n",
    "\n",
    "# Tokenization\n",
    "MAX_WORDS = 20000  \n",
    "MAX_LEN = 50        \n",
    "\n",
    "tokenizer = Tokenizer(num_words=MAX_WORDS, lower=True)\n",
    "tokenizer.fit_on_texts(df['question_text'])\n",
    "X = tokenizer.texts_to_sequences(df['question_text'])\n",
    "X = pad_sequences(X, maxlen=MAX_LEN)\n",
    "\n",
    "y = df['target'].values\n",
    "\n",
    "# Train-Test Split\n",
    "X_train, X_test, y_train, y_test = train_test_split(X, y, test_size=0.2, stratify=y, random_state=42)\n",
    "\n",
    "# SMOTE to balance classes\n",
    "smote = SMOTE(sampling_strategy='auto', random_state=42)\n",
    "X_train_resampled, y_train_resampled = smote.fit_resample(X_train, y_train)\n",
    "\n",
    "# Model Definition \n",
    "model = Sequential([\n",
    "    Embedding(input_dim=MAX_WORDS, output_dim=50, input_length=MAX_LEN, trainable=True),\n",
    "    SpatialDropout1D(0.2),\n",
    "    LSTM(32, dropout=0.3, recurrent_dropout=0.3),\n",
    "    Dense(16, activation='relu'),\n",
    "    Dropout(0.5),\n",
    "    Dense(1, activation='sigmoid')\n",
    "])\n",
    "\n",
    "# Compile\n",
    "model.compile(loss='binary_crossentropy', optimizer='adam', metrics=['accuracy'])\n",
    "\n",
    "# Early Stopping\n",
    "early_stopping = EarlyStopping(monitor='val_loss', patience=2, restore_best_weights=True)\n",
    "\n",
    "# Train Model\n",
    "EPOCHS = 3\n",
    "BATCH_SIZE = 32  \n",
    "\n",
    "history = model.fit(X_train_resampled, y_train_resampled,\n",
    "                    epochs=EPOCHS, batch_size=BATCH_SIZE,\n",
    "                    validation_data=(X_test, y_test),\n",
    "                    callbacks=[early_stopping], verbose=1)\n",
    "\n",
    "# Evaluate Model\n",
    "test_loss, test_acc = model.evaluate(X_test, y_test)\n",
    "print(f\"Test Accuracy: {test_acc:.2f}\")\n",
    "\n",
    "# Save Model\n",
    "model.save(\"spam_filter.keras\")\n"
   ]
  },
  {
   "cell_type": "code",
   "execution_count": null,
   "id": "12cad288-b67c-4a9d-8edf-802ee056863c",
   "metadata": {},
   "outputs": [],
   "source": []
  }
 ],
 "metadata": {
  "kernelspec": {
   "display_name": "Python 3 (ipykernel)",
   "language": "python",
   "name": "python3"
  },
  "language_info": {
   "codemirror_mode": {
    "name": "ipython",
    "version": 3
   },
   "file_extension": ".py",
   "mimetype": "text/x-python",
   "name": "python",
   "nbconvert_exporter": "python",
   "pygments_lexer": "ipython3",
   "version": "3.11.7"
  }
 },
 "nbformat": 4,
 "nbformat_minor": 5
}
